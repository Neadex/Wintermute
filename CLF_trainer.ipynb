{
 "cells": [
  {
   "cell_type": "code",
   "execution_count": 2,
   "metadata": {
    "scrolled": true
   },
   "outputs": [
    {
     "name": "stdout",
     "output_type": "stream",
     "text": [
      "43\n"
     ]
    }
   ],
   "source": [
    "features = [\"duration\", \"protocol_type\", \"service\", \"flag\", \"src_bytes\", \n",
    "            \"dst_bytes\", \"land\", \"wrong_fragment\",\"urgent\", \"hot\", \"num_failed_logins\", \n",
    "            \"logged_in\", \"num_compromised\", \"root_shell\", \"su_attempted\",\"num_root\", \n",
    "            \"num_file_creations\", \"num_shells\", \"num_access_files\", \"num_outbound_cmds\", \n",
    "            \"is_host_login\", \"is_guest_login\", \"count\", \"srv_count\", \"serror_rate\", \n",
    "            \"srv_serror_rate\", \"rerror_rate\", \"srv_rerror_rate\", \"same_srv_rate\", \n",
    "            \"diff_srv_rate\", \"srv_diff_host_rate\", \"dst_host_count\", \n",
    "            \"dst_host_srv_count\", \"dst_host_same_srv_rate\", \"dst_host_diff_srv_rate\",\n",
    "            \"dst_host_same_src_port_rate\",\"dst_host_srv_diff_host_rate\",\n",
    "            \"dst_host_serror_rate\",\"dst_host_srv_serror_rate\",\n",
    "            \"dst_host_rerror_rate\",\"dst_host_srv_rerror_rate\", \"label\", \"N/A\"]\n",
    "print(len(features))"
   ]
  },
  {
   "cell_type": "code",
   "execution_count": 66,
   "metadata": {
    "scrolled": true
   },
   "outputs": [
    {
     "name": "stdout",
     "output_type": "stream",
     "text": [
      "Liste des features :                               0\n",
      "0                      duration\n",
      "1                 protocol_type\n",
      "2                       service\n",
      "3                          flag\n",
      "4                     src_bytes\n",
      "5                     dst_bytes\n",
      "6                          land\n",
      "7                wrong_fragment\n",
      "8                        urgent\n",
      "9                           hot\n",
      "10            num_failed_logins\n",
      "11                    logged_in\n",
      "12              num_compromised\n",
      "13                   root_shell\n",
      "14                 su_attempted\n",
      "15                     num_root\n",
      "16           num_file_creations\n",
      "17                   num_shells\n",
      "18             num_access_files\n",
      "19            num_outbound_cmds\n",
      "20                is_host_login\n",
      "21               is_guest_login\n",
      "22                        count\n",
      "23                    srv_count\n",
      "24                  serror_rate\n",
      "25              srv_serror_rate\n",
      "26                  rerror_rate\n",
      "27              srv_rerror_rate\n",
      "28                same_srv_rate\n",
      "29                diff_srv_rate\n",
      "30           srv_diff_host_rate\n",
      "31               dst_host_count\n",
      "32           dst_host_srv_count\n",
      "33       dst_host_same_srv_rate\n",
      "34       dst_host_diff_srv_rate\n",
      "35  dst_host_same_src_port_rate\n",
      "36  dst_host_srv_diff_host_rate\n",
      "37         dst_host_serror_rate\n",
      "38     dst_host_srv_serror_rate\n",
      "39         dst_host_rerror_rate\n",
      "40     dst_host_srv_rerror_rate\n",
      "41                        label\n",
      "42                          N/A \n",
      "\n",
      "5 premiers exemples:\n",
      "\n",
      "      src_bytes  dst_bytes label  auth  http  pop_3  smtp  telnet\n",
      "366      54540       8314  back   0.0   1.0    0.0   0.0     0.0\n",
      "466      54540       8314  back   0.0   1.0    0.0   0.0     0.0\n",
      "607      54540       8314  back   0.0   1.0    0.0   0.0     0.0\n",
      "619      54540       8314  back   0.0   1.0    0.0   0.0     0.0\n",
      "674      54540       8314  back   0.0   1.0    0.0   0.0     0.0 \n",
      "\n"
     ]
    },
    {
     "data": {
      "text/plain": [
       "<matplotlib.axes._subplots.AxesSubplot at 0x24128bb3e10>"
      ]
     },
     "execution_count": 66,
     "metadata": {},
     "output_type": "execute_result"
    },
    {
     "data": {
      "image/png": "[encoded data removed]",
      "text/plain": [
       "<matplotlib.figure.Figure at 0x24128ab1748>"
      ]
     },
     "metadata": {},
     "output_type": "display_data"
    }
   ],
   "source": [
    "import csv\n",
    "import pandas as pd\n",
    "import matplotlib.pyplot as plt\n",
    "\n",
    "%matplotlib inline\n",
    "\n",
    "path = \"KDDTrain+.txt\" ## REPLACE BY DATASET PATH\n",
    "data = pd.read_csv(path, sep=\",\", header=None)\n",
    "labels = data[41]\n",
    "labels.name = 42\n",
    "\n",
    "# Sélection des exemples avec connexion réussie\n",
    "data = data.loc[data[12] == 1]\n",
    "\n",
    "data.columns = features\n",
    "\n",
    "# Sélection des exemples concernant TCP\n",
    "data = data.loc[data[\"protocol_type\"]==\"tcp\"]\n",
    "\n",
    "print('Liste des features :', pd.DataFrame(data.columns.values),'\\n')\n",
    "## 'duration' a été retiré des relevant_features\n",
    "relevant_features = ['src_bytes', 'dst_bytes', 'service', \"label\"]\n",
    "data = data[relevant_features]\n",
    "\n",
    "service_dummies = pd.get_dummies(data['service'])\n",
    "\n",
    "data.drop('service',axis=1, inplace=True)\n",
    "data = pd.concat([data, service_dummies], axis=1)\n",
    "data.drop('login', axis=1, inplace=True)\n",
    "\n",
    "## Stockage des labels après la création de la dummy de \"service\" pour les replacer après la normalisation\n",
    "selected_feat = ['src_bytes', 'dst_bytes', 'auth', 'http', 'pop_3',\n",
    "       'smtp', 'telnet']\n",
    "\n",
    "print(\"5 premiers exemples:\\n\\n\",data[0:5], \"\\n\")\n",
    "data.label.value_counts().plot(kind='bar', title='Répartition des labels')"
   ]
  },
  {
   "cell_type": "code",
   "execution_count": 67,
   "metadata": {
    "scrolled": true
   },
   "outputs": [
    {
     "name": "stdout",
     "output_type": "stream",
     "text": [
      "outliers.shape (892,)\n",
      "target.shape (976,)\n",
      "outlier fraction 0.9139344262295082\n"
     ]
    }
   ],
   "source": [
    "from sklearn.preprocessing import normalize\n",
    "from sklearn.preprocessing import Imputer\n",
    "\n",
    "data.loc[data['label'] == \"normal\", \"attack\"] = 1  \n",
    "data.loc[data['label'] != \"normal\", \"attack\"] = -1\n",
    "\n",
    "target = data['attack']\n",
    "outliers = target[target == -1]\n",
    "proportion = pd.concat([target, outliers], axis=1)\n",
    "print(\"outliers.shape\", outliers.shape)\n",
    "print(\"target.shape\", target.shape)  \n",
    "print(\"outlier fraction\", outliers.shape[0]/target.shape[0])\n",
    "data.drop([\"label\", \"attack\"], axis=1, inplace=True)\n",
    "\n",
    "imp = Imputer(missing_values='NaN', strategy='median', axis=0)\n",
    "imp.fit(data)\n",
    "data = imp.transform(data)\n",
    "\n",
    "data = normalize(data)"
   ]
  },
  {
   "cell_type": "code",
   "execution_count": 70,
   "metadata": {
    "scrolled": true
   },
   "outputs": [
    {
     "data": {
      "text/plain": [
       "<matplotlib.axes._subplots.AxesSubplot at 0x24128cbebe0>"
      ]
     },
     "execution_count": 70,
     "metadata": {},
     "output_type": "execute_result"
    },
    {
     "data": {
      "image/png": "[encoded data removed]",
      "text/plain": [
       "<matplotlib.figure.Figure at 0x24128b14080>"
      ]
     },
     "metadata": {},
     "output_type": "display_data"
    }
   ],
   "source": [
    "from sklearn.feature_selection import SelectKBest\n",
    "from sklearn.feature_selection import chi2\n",
    "import numpy as np\n",
    "\n",
    "\n",
    "# Sélection des features\n",
    "test = SelectKBest(score_func=chi2, k='all')\n",
    "fit = test.fit(data, target)\n",
    "\n",
    "scores = pd.DataFrame(fit.scores_)\n",
    "\n",
    "bestK = pd.DataFrame(fit.get_support(indices=True), index=range(7), columns=[1])\n",
    "bestK.add(1, axis='columns')\n",
    "\n",
    "df = pd.concat([scores,bestK], axis=1)\n",
    "final = df.sort_values(0, axis=0, ascending=False)\n",
    "\n",
    "ranking = []\n",
    "for e in final[1]:\n",
    "    ranking.append((selected_feat[e], final[0][e]))\n",
    "    \n",
    "ranking = pd.DataFrame(ranking, columns=['Feature', 'Indice'])\n",
    "ranking.plot(kind=\"bar\", x='Feature')"
   ]
  },
  {
   "cell_type": "code",
   "execution_count": 71,
   "metadata": {
    "scrolled": true
   },
   "outputs": [
    {
     "data": {
      "text/plain": [
       "(780, 7)"
      ]
     },
     "execution_count": 71,
     "metadata": {},
     "output_type": "execute_result"
    }
   ],
   "source": [
    "from sklearn.cross_validation import train_test_split \n",
    "train_data, test_data, train_target, test_target = train_test_split(data, target, train_size = 0.8)  \n",
    "train_data.shape "
   ]
  },
  {
   "cell_type": "code",
   "execution_count": 72,
   "metadata": {
    "scrolled": false
   },
   "outputs": [
    {
     "data": {
      "text/plain": [
       "SVC(C=8.0, cache_size=200, class_weight={1: 10}, coef0=0.0,\n",
       "  decision_function_shape=None, degree=3, gamma=0.03125, kernel='rbf',\n",
       "  max_iter=-1, probability=False, random_state=None, shrinking=True,\n",
       "  tol=0.001, verbose=False)"
      ]
     },
     "execution_count": 72,
     "metadata": {},
     "output_type": "execute_result"
    }
   ],
   "source": [
    "from sklearn import svm\n",
    "\n",
    "model = svm.SVC(C=8.0, gamma=0.03125, kernel='rbf',class_weight={1:10})  \n",
    "model.fit(data,target)"
   ]
  },
  {
   "cell_type": "code",
   "execution_count": 73,
   "metadata": {},
   "outputs": [
    {
     "data": {
      "text/html": [
       "<div>\n",
       "<table border=\"1\" class=\"dataframe\">\n",
       "  <thead>\n",
       "    <tr style=\"text-align: right;\">\n",
       "      <th></th>\n",
       "      <th></th>\n",
       "    </tr>\n",
       "  </thead>\n",
       "  <tbody>\n",
       "    <tr>\n",
       "      <th>accuracy</th>\n",
       "      <td>0.989744</td>\n",
       "    </tr>\n",
       "    <tr>\n",
       "      <th>precision:</th>\n",
       "      <td>0.901408</td>\n",
       "    </tr>\n",
       "    <tr>\n",
       "      <th>f1:</th>\n",
       "      <td>0.941176</td>\n",
       "    </tr>\n",
       "    <tr>\n",
       "      <th>recall:</th>\n",
       "      <td>0.984615</td>\n",
       "    </tr>\n",
       "  </tbody>\n",
       "</table>\n",
       "</div>"
      ],
      "text/plain": [
       "                     \n",
       "accuracy     0.989744\n",
       "precision:   0.901408\n",
       "f1:          0.941176\n",
       "recall:      0.984615"
      ]
     },
     "execution_count": 73,
     "metadata": {},
     "output_type": "execute_result"
    }
   ],
   "source": [
    "from sklearn import metrics  \n",
    "\n",
    "preds = model.predict(train_data)  \n",
    "targs = train_target\n",
    "\n",
    "resultats = {'accuracy': metrics.accuracy_score(targs, preds),\n",
    "            \"precision: \": metrics.precision_score(targs, preds),\n",
    "            \"recall: \": metrics.recall_score(targs, preds),\n",
    "            \"f1: \": metrics.f1_score(targs, preds)}\n",
    "\n",
    "df_resultats = pd.DataFrame.from_dict(resultats, orient='index')\n",
    "df_resultats.columns = ['']\n",
    "\n",
    "df_resultats"
   ]
  },
  {
   "cell_type": "code",
   "execution_count": 74,
   "metadata": {},
   "outputs": [
    {
     "data": {
      "image/png": "[encoded data removed]",
      "text/plain": [
       "<matplotlib.figure.Figure at 0x24128c27860>"
      ]
     },
     "metadata": {},
     "output_type": "display_data"
    }
   ],
   "source": [
    "import seaborn as sn\n",
    "\n",
    "tn, fp, fn, tp = metrics.confusion_matrix(targs, preds).ravel()\n",
    "\n",
    "conf_values = [[tn], [fp], [fn], [tp]]\n",
    "conf_matrix = pd.DataFrame(np.array(conf_values).reshape(2,2))\n",
    "conf_matrix.columns = ['Negative', 'Positive']\n",
    "\n",
    "\n",
    "plot = sn.heatmap(conf_matrix, annot=True, fmt=\"d\", yticklabels=['Negative', 'Positive'])\n",
    "plot.xaxis.tick_top()"
   ]
  },
  {
   "cell_type": "code",
   "execution_count": 76,
   "metadata": {},
   "outputs": [
    {
     "data": {
      "text/plain": [
       "['Light_TCP_clf/Light_TCP_clf.pkl',\n",
       " 'Light_TCP_clf/Light_TCP_clf.pkl_01.npy',\n",
       " 'Light_TCP_clf/Light_TCP_clf.pkl_02.npy',\n",
       " 'Light_TCP_clf/Light_TCP_clf.pkl_03.npy',\n",
       " 'Light_TCP_clf/Light_TCP_clf.pkl_04.npy',\n",
       " 'Light_TCP_clf/Light_TCP_clf.pkl_05.npy',\n",
       " 'Light_TCP_clf/Light_TCP_clf.pkl_06.npy',\n",
       " 'Light_TCP_clf/Light_TCP_clf.pkl_07.npy',\n",
       " 'Light_TCP_clf/Light_TCP_clf.pkl_08.npy',\n",
       " 'Light_TCP_clf/Light_TCP_clf.pkl_09.npy',\n",
       " 'Light_TCP_clf/Light_TCP_clf.pkl_10.npy',\n",
       " 'Light_TCP_clf/Light_TCP_clf.pkl_11.npy']"
      ]
     },
     "execution_count": 76,
     "metadata": {},
     "output_type": "execute_result"
    }
   ],
   "source": [
    "## Export du modele en fichier pkl pour l'intégrer à la prochaine étape du dev (probe)\n",
    "import os\n",
    "from sklearn.externals import joblib\n",
    "\n",
    "\n",
    "# Nettoyage du dossier s'il existe déjà, sinon création du dossier\n",
    "if os.path.exists('Light_TCP_clf') == True:\n",
    "    for e in os.listdir('Light_TCP_clf'):\n",
    "        os.remove('Light_TCP_clf/'+e)\n",
    "else:\n",
    "    os.mkdir('Light_TCP_clf')\n",
    "\n",
    "    \n",
    "joblib.dump(model, 'Light_TCP_clf/Light_TCP_clf.pkl')"
   ]
  }
 ],
 "metadata": {
  "anaconda-cloud": {},
  "kernelspec": {
   "display_name": "Python 3",
   "language": "python",
   "name": "python3"
  },
  "language_info": {
   "codemirror_mode": {
    "name": "ipython",
    "version": 3
   },
   "file_extension": ".py",
   "mimetype": "text/x-python",
   "name": "python",
   "nbconvert_exporter": "python",
   "pygments_lexer": "ipython3",
   "version": "3.6.1"
  }
 },
 "nbformat": 4,
 "nbformat_minor": 1
}
